{
 "cells": [
  {
   "cell_type": "raw",
   "metadata": {},
   "source": [
    "Лабораторна робота з Архітектури обчислювальних систем\n",
    "\"Імітаційна модель процесора\"\n",
    "студента групи К26\n",
    "Цибулькіна Кирила Яновича\n",
    "2019"
   ]
  },
  {
   "cell_type": "markdown",
   "metadata": {},
   "source": [
    "Запишемо програму по замовчуванню на диск"
   ]
  },
  {
   "cell_type": "code",
   "execution_count": 1,
   "metadata": {},
   "outputs": [],
   "source": [
    "myprogram = ['move R2', 'plus R2', 'coun R2']"
   ]
  },
  {
   "cell_type": "code",
   "execution_count": 2,
   "metadata": {},
   "outputs": [],
   "source": [
    "a = open(\"prog.txt\",\"w+\")\n",
    "for i in range(len(myprogram)-1):\n",
    "     a.write(myprogram[i]+\"\\n\")\n",
    "a.write(myprogram[-1])\n",
    "a.close()"
   ]
  },
  {
   "cell_type": "markdown",
   "metadata": {},
   "source": [
    "параметри інтерпретатора(бітність та розмір реєстру)"
   ]
  },
  {
   "cell_type": "code",
   "execution_count": 3,
   "metadata": {},
   "outputs": [],
   "source": [
    "Size = 18\n",
    "SIZEOFR = 3"
   ]
  },
  {
   "cell_type": "markdown",
   "metadata": {},
   "source": [
    "функція створення нового порожнього бітного числа"
   ]
  },
  {
   "cell_type": "code",
   "execution_count": 4,
   "metadata": {},
   "outputs": [],
   "source": [
    "def newNum():\n",
    "    i = [0 for i in range(Size)]\n",
    "    return i"
   ]
  },
  {
   "cell_type": "markdown",
   "metadata": {},
   "source": [
    "конвертація чисел у бітній формат"
   ]
  },
  {
   "cell_type": "code",
   "execution_count": 5,
   "metadata": {},
   "outputs": [],
   "source": [
    "def convert(a):\n",
    "    sign = 0\n",
    "    if a<0:\n",
    "        sign = 1\n",
    "        a = -a\n",
    "    a = a//1\n",
    "    n = newNum()\n",
    "    for i in  range(len(n)):\n",
    "        n[-1-i] = a%2\n",
    "        a=a//2\n",
    "    n[0] = sign\n",
    "    return n"
   ]
  },
  {
   "cell_type": "markdown",
   "metadata": {},
   "source": [
    "інвертація бітів на протилежні"
   ]
  },
  {
   "cell_type": "code",
   "execution_count": 6,
   "metadata": {},
   "outputs": [],
   "source": [
    "def invert(a):\n",
    "    t = [1,0]\n",
    "    b = [t[i] for i in a]\n",
    "    return b"
   ]
  },
  {
   "cell_type": "markdown",
   "metadata": {},
   "source": [
    "додавання двух чисел у додатковому коді"
   ]
  },
  {
   "cell_type": "code",
   "execution_count": 7,
   "metadata": {},
   "outputs": [],
   "source": [
    "def add(a,b):\n",
    "    d = convert(0)\n",
    "    c = convert(0)\n",
    "    c[-1] = (a[-1]+b[-1])%2\n",
    "    d[-2] = (a[-1]+b[-1])//2\n",
    "    for i in range(2,len(d)):\n",
    "        d[-i-1] = (a[-i]+b[-i]+d[-i])//2\n",
    "        c[-i] = (a[-i]+b[-i]+d[-i])%2\n",
    "    c[0]=(a[0]+b[0]+d[0])%2\n",
    "    if (a[0]+b[0]+d[0])//2>0:\n",
    "        print(\"overf\")\n",
    "    return c"
   ]
  },
  {
   "cell_type": "markdown",
   "metadata": {},
   "source": [
    "утворення додаткового коду до числа"
   ]
  },
  {
   "cell_type": "code",
   "execution_count": 8,
   "metadata": {},
   "outputs": [],
   "source": [
    "def rever(a):\n",
    "    b = a.copy()\n",
    "    if b[0] == 0:\n",
    "        return b\n",
    "    b[0] = 0\n",
    "    c = invert(b)\n",
    "    d = add(c,convert(1))\n",
    "    return d"
   ]
  },
  {
   "cell_type": "markdown",
   "metadata": {},
   "source": [
    "додавання двох чисел у прямій формі"
   ]
  },
  {
   "cell_type": "code",
   "execution_count": 9,
   "metadata": {},
   "outputs": [],
   "source": [
    "def Uladd(a,b):\n",
    "    return rever(add(rever(a),rever(b)))"
   ]
  },
  {
   "cell_type": "markdown",
   "metadata": {},
   "source": [
    "утворення нового регістру"
   ]
  },
  {
   "cell_type": "code",
   "execution_count": 10,
   "metadata": {},
   "outputs": [],
   "source": [
    "def newR(a):\n",
    "    b={}\n",
    "    for i in range(a):\n",
    "        b[\"R\"+str(i)] = convert(i)\n",
    "    return b"
   ]
  },
  {
   "cell_type": "code",
   "execution_count": 11,
   "metadata": {},
   "outputs": [],
   "source": [
    "def newR1(a):\n",
    "    b={}\n",
    "    b[\"AC\"] = convert(0)\n",
    "    for i in range(a):\n",
    "        b[\"R\"+str(i)] = convert(i)\n",
    "    return b"
   ]
  },
  {
   "cell_type": "code",
   "execution_count": 12,
   "metadata": {},
   "outputs": [],
   "source": [
    "R = newR1(4)"
   ]
  },
  {
   "cell_type": "markdown",
   "metadata": {},
   "source": [
    "команда запису в регістр"
   ]
  },
  {
   "cell_type": "code",
   "execution_count": 13,
   "metadata": {},
   "outputs": [],
   "source": [
    "def move(a,b):\n",
    "    if R().get(a)==None:\n",
    "        print(\"bad first of move\")\n",
    "        return\n",
    "    try:\n",
    "        c = int(b)\n",
    "        R()[a] = convert(c)\n",
    "        return R()[a]\n",
    "    except:\n",
    "        if R().get(b)==None:\n",
    "            print(\"bad second of move\")\n",
    "            return\n",
    "        R()[a] = R()[b]\n",
    "        return R()[a]"
   ]
  },
  {
   "cell_type": "code",
   "execution_count": 14,
   "metadata": {},
   "outputs": [],
   "source": [
    "def move1(a):\n",
    "    try:\n",
    "        c = int(a)\n",
    "        R()[\"AC\"] = convert(a)\n",
    "        return R()[\"AC\"]\n",
    "    except:\n",
    "        if R().get(a)==None:\n",
    "            print(\"bad second of move\")\n",
    "            return\n",
    "        R()[\"AC\"] = R()[a]\n",
    "        return R()[\"AC\"]"
   ]
  },
  {
   "cell_type": "markdown",
   "metadata": {},
   "source": [
    "команда додавання двох чисел та запису в регістр"
   ]
  },
  {
   "cell_type": "code",
   "execution_count": 15,
   "metadata": {},
   "outputs": [],
   "source": [
    "def plus(a,b):\n",
    "    if R().get(a)==None:\n",
    "        print(\"bad first of plus\")\n",
    "        return\n",
    "    try:\n",
    "        c = int(b)\n",
    "        R()[a] = Uladd(R()[a],convert(c))\n",
    "        return R()[a]\n",
    "    except:\n",
    "        if R().get(b)==None:\n",
    "            print(\"bad second of plus\")\n",
    "            return\n",
    "        R()[a] = Uladd(R()[a], R()[b])\n",
    "        return R()[a]"
   ]
  },
  {
   "cell_type": "code",
   "execution_count": 16,
   "metadata": {},
   "outputs": [],
   "source": [
    "def plus1(a):\n",
    "    try:\n",
    "        c = int(a)\n",
    "        R()[\"AC\"] = Uladd(R()[\"AC\"],convert(c))\n",
    "        return R()[\"AC\"]\n",
    "    except:\n",
    "        if R().get(a)==None:\n",
    "            print(\"bad second of plus\")\n",
    "            return\n",
    "        R()[\"AC\"] = Uladd(R()[\"AC\"], R()[a])\n",
    "        return R()[\"AC\"]"
   ]
  },
  {
   "cell_type": "markdown",
   "metadata": {},
   "source": [
    "функція підрахунку кількості бітів заданого значення"
   ]
  },
  {
   "cell_type": "code",
   "execution_count": 17,
   "metadata": {},
   "outputs": [],
   "source": [
    "def counter(a,b):\n",
    "    c = 0\n",
    "    for i in a:\n",
    "        if i==b:\n",
    "            c+=1\n",
    "    return convert(c)\n",
    "    "
   ]
  },
  {
   "cell_type": "markdown",
   "metadata": {},
   "source": [
    "команда підрахунку кількості бітів у заданому регістрі"
   ]
  },
  {
   "cell_type": "code",
   "execution_count": 18,
   "metadata": {},
   "outputs": [],
   "source": [
    "def counterOf(a,b):\n",
    "    if R().get(a)==None:\n",
    "        print(\"bad first of plus\")\n",
    "        return\n",
    "    try:\n",
    "        c = int(b)\n",
    "        if c>0:\n",
    "            c=1\n",
    "        else:\n",
    "            c=0\n",
    "        R()[a] = counter(R()[a],c)\n",
    "        return R()[a]\n",
    "    except:\n",
    "        if R().get(b)==None:\n",
    "            print(\"bad second of plus\")\n",
    "            return\n",
    "        c = R()[b]\n",
    "        if c[-1]==0:\n",
    "            c=0\n",
    "        else:\n",
    "            c=1\n",
    "        R()[a] = counter(R()[a],c)\n",
    "        return R()[a]"
   ]
  },
  {
   "cell_type": "code",
   "execution_count": 19,
   "metadata": {},
   "outputs": [],
   "source": [
    "def counterOf1(a):\n",
    "    try:\n",
    "        c = int(b)\n",
    "        if c>0:\n",
    "            c=1\n",
    "        else:\n",
    "            c=0\n",
    "        R()[\"AC\"] = counter(R()[\"AC\"],c)\n",
    "        return R()[\"AC\"]\n",
    "    except:\n",
    "        if R().get(a)==None:\n",
    "            print(\"bad second of plus\")\n",
    "            return\n",
    "        c = R()[a]\n",
    "        if c[-1]==0:\n",
    "            c=0\n",
    "        else:\n",
    "            c=1\n",
    "        R()[\"AC\"] = counter(R()[\"AC\"],c)\n",
    "        return R()[\"AC\"]"
   ]
  },
  {
   "cell_type": "markdown",
   "metadata": {},
   "source": [
    "технічна функція для звернення до регістру"
   ]
  },
  {
   "cell_type": "code",
   "execution_count": 20,
   "metadata": {},
   "outputs": [],
   "source": [
    "r = newR(SIZEOFR)"
   ]
  },
  {
   "cell_type": "code",
   "execution_count": 21,
   "metadata": {},
   "outputs": [],
   "source": [
    "def R():\n",
    "    return r"
   ]
  },
  {
   "cell_type": "markdown",
   "metadata": {},
   "source": [
    "технічна команда для перевірки на наявність помилок"
   ]
  },
  {
   "cell_type": "code",
   "execution_count": 22,
   "metadata": {},
   "outputs": [],
   "source": [
    "def tryer():\n",
    "    counterOf(\"R0\",\"R1\")\n",
    "    counterOf(\"R0\",\"0\")\n",
    "    plus(\"R0\",\"R1\")\n",
    "    plus(\"R0\",\"0\")\n",
    "    move(\"R0\",\"0\")\n",
    "    move(\"R0\",\"R1\")"
   ]
  },
  {
   "cell_type": "markdown",
   "metadata": {},
   "source": [
    "відкриття файлу з програмою"
   ]
  },
  {
   "cell_type": "code",
   "execution_count": 23,
   "metadata": {},
   "outputs": [],
   "source": [
    "a = open(\"prog.txt\")\n",
    "c = a.read().split(\"\\n\")\n",
    "a.close()\n",
    "b = [i.split(\" \") for i in c]\n",
    "PROG = b"
   ]
  },
  {
   "cell_type": "markdown",
   "metadata": {},
   "source": [
    "функція для виклику необхідної команди відповідно до тексту"
   ]
  },
  {
   "cell_type": "code",
   "execution_count": 24,
   "metadata": {},
   "outputs": [],
   "source": [
    "def Command():\n",
    "    a={\"move\":move1,\"plus\":plus1,\"coun\":counterOf1}\n",
    "    return a"
   ]
  },
  {
   "cell_type": "markdown",
   "metadata": {},
   "source": [
    "функції виводу"
   ]
  },
  {
   "cell_type": "code",
   "execution_count": 25,
   "metadata": {},
   "outputs": [],
   "source": [
    "def printilkaR(r):\n",
    "    if r.get(\"AC\"):\n",
    "        print(\"AC\"+\"\\t\"+str(R()[\"AC\"]))\n",
    "    for i in range(SIZEOFR):\n",
    "        print(\"R\"+str(i)+\"\\t\"+str(R()[\"R\"+str(i)]))"
   ]
  },
  {
   "cell_type": "code",
   "execution_count": 26,
   "metadata": {},
   "outputs": [],
   "source": [
    "def printilka(r,c,t,com,status):\n",
    "    print(\"IR\\t\"+str(com))\n",
    "    printilkaR(r)\n",
    "    print(\"PS\\t\"+str(status))\n",
    "    print(\"PK\\t\"+str(c))\n",
    "    print(\"TC\\t\"+str(t))\n",
    "    print()"
   ]
  },
  {
   "cell_type": "markdown",
   "metadata": {},
   "source": [
    "запуск та поетапне виконання програми з виводом стану реєстру та іншого на екран"
   ]
  },
  {
   "cell_type": "code",
   "execution_count": 27,
   "metadata": {},
   "outputs": [
    {
     "name": "stdout",
     "output_type": "stream",
     "text": [
      "IR\t['move', 'R2']\n",
      "R0\t[0, 0, 0, 0, 0, 0, 0, 0, 0, 0, 0, 0, 0, 0, 0, 0, 0, 0]\n",
      "R1\t[0, 0, 0, 0, 0, 0, 0, 0, 0, 0, 0, 0, 0, 0, 0, 0, 0, 1]\n",
      "R2\t[0, 0, 0, 0, 0, 0, 0, 0, 0, 0, 0, 0, 0, 0, 0, 0, 1, 0]\n",
      "PS\t0\n",
      "PK\t0\n",
      "TC\t1\n",
      "\n",
      "IR\t['move', 'R2']\n",
      "AC\t[0, 0, 0, 0, 0, 0, 0, 0, 0, 0, 0, 0, 0, 0, 0, 0, 1, 0]\n",
      "R0\t[0, 0, 0, 0, 0, 0, 0, 0, 0, 0, 0, 0, 0, 0, 0, 0, 0, 0]\n",
      "R1\t[0, 0, 0, 0, 0, 0, 0, 0, 0, 0, 0, 0, 0, 0, 0, 0, 0, 1]\n",
      "R2\t[0, 0, 0, 0, 0, 0, 0, 0, 0, 0, 0, 0, 0, 0, 0, 0, 1, 0]\n",
      "PS\t[0, 0, 0, 0, 0, 0, 0, 0, 0, 0, 0, 0, 0, 0, 0, 0, 1, 0]\n",
      "PK\t0\n",
      "TC\t2\n",
      "\n",
      "IR\t['plus', 'R2']\n",
      "AC\t[0, 0, 0, 0, 0, 0, 0, 0, 0, 0, 0, 0, 0, 0, 0, 0, 1, 0]\n",
      "R0\t[0, 0, 0, 0, 0, 0, 0, 0, 0, 0, 0, 0, 0, 0, 0, 0, 0, 0]\n",
      "R1\t[0, 0, 0, 0, 0, 0, 0, 0, 0, 0, 0, 0, 0, 0, 0, 0, 0, 1]\n",
      "R2\t[0, 0, 0, 0, 0, 0, 0, 0, 0, 0, 0, 0, 0, 0, 0, 0, 1, 0]\n",
      "PS\t[0, 0, 0, 0, 0, 0, 0, 0, 0, 0, 0, 0, 0, 0, 0, 0, 1, 0]\n",
      "PK\t1\n",
      "TC\t1\n",
      "\n",
      "IR\t['plus', 'R2']\n",
      "AC\t[0, 0, 0, 0, 0, 0, 0, 0, 0, 0, 0, 0, 0, 0, 0, 1, 0, 0]\n",
      "R0\t[0, 0, 0, 0, 0, 0, 0, 0, 0, 0, 0, 0, 0, 0, 0, 0, 0, 0]\n",
      "R1\t[0, 0, 0, 0, 0, 0, 0, 0, 0, 0, 0, 0, 0, 0, 0, 0, 0, 1]\n",
      "R2\t[0, 0, 0, 0, 0, 0, 0, 0, 0, 0, 0, 0, 0, 0, 0, 0, 1, 0]\n",
      "PS\t[0, 0, 0, 0, 0, 0, 0, 0, 0, 0, 0, 0, 0, 0, 0, 1, 0, 0]\n",
      "PK\t1\n",
      "TC\t2\n",
      "\n",
      "IR\t['coun', 'R2']\n",
      "AC\t[0, 0, 0, 0, 0, 0, 0, 0, 0, 0, 0, 0, 0, 0, 0, 1, 0, 0]\n",
      "R0\t[0, 0, 0, 0, 0, 0, 0, 0, 0, 0, 0, 0, 0, 0, 0, 0, 0, 0]\n",
      "R1\t[0, 0, 0, 0, 0, 0, 0, 0, 0, 0, 0, 0, 0, 0, 0, 0, 0, 1]\n",
      "R2\t[0, 0, 0, 0, 0, 0, 0, 0, 0, 0, 0, 0, 0, 0, 0, 0, 1, 0]\n",
      "PS\t[0, 0, 0, 0, 0, 0, 0, 0, 0, 0, 0, 0, 0, 0, 0, 1, 0, 0]\n",
      "PK\t2\n",
      "TC\t1\n",
      "\n",
      "IR\t['coun', 'R2']\n",
      "AC\t[0, 0, 0, 0, 0, 0, 0, 0, 0, 0, 0, 0, 0, 1, 0, 0, 0, 1]\n",
      "R0\t[0, 0, 0, 0, 0, 0, 0, 0, 0, 0, 0, 0, 0, 0, 0, 0, 0, 0]\n",
      "R1\t[0, 0, 0, 0, 0, 0, 0, 0, 0, 0, 0, 0, 0, 0, 0, 0, 0, 1]\n",
      "R2\t[0, 0, 0, 0, 0, 0, 0, 0, 0, 0, 0, 0, 0, 0, 0, 0, 1, 0]\n",
      "PS\t[0, 0, 0, 0, 0, 0, 0, 0, 0, 0, 0, 0, 0, 1, 0, 0, 0, 1]\n",
      "PK\t2\n",
      "TC\t2\n",
      "\n"
     ]
    }
   ],
   "source": [
    "c=-1\n",
    "t=2\n",
    "com = 0\n",
    "status = 0\n",
    "while(c<len(PROG)-1 or (c<len(PROG) and t ==1)):\n",
    "    if t==1:\n",
    "        #status = Command()[com[0]](com[1],com[2])\n",
    "        status = Command()[com[0]](com[1])\n",
    "        t+=1\n",
    "    else:\n",
    "        t=1\n",
    "        c+=1\n",
    "        com = PROG[c]\n",
    "    printilka(R(),c,t,com,status)\n",
    "        "
   ]
  },
  {
   "cell_type": "markdown",
   "metadata": {},
   "source": [
    "Висновок: ми зробили модель що імітує роботу процесора та може виконувати базові команди, також був реалізований регістр та зчитування його стану кожен момент часу"
   ]
  }
 ],
 "metadata": {
  "kernelspec": {
   "display_name": "Python 3",
   "language": "python",
   "name": "python3"
  },
  "language_info": {
   "codemirror_mode": {
    "name": "ipython",
    "version": 3
   },
   "file_extension": ".py",
   "mimetype": "text/x-python",
   "name": "python",
   "nbconvert_exporter": "python",
   "pygments_lexer": "ipython3",
   "version": "3.7.4"
  }
 },
 "nbformat": 4,
 "nbformat_minor": 2
}
